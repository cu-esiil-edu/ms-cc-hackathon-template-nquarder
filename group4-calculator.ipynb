{
 "cells": [
  {
   "cell_type": "code",
   "execution_count": null,
   "id": "eebecaf2",
   "metadata": {},
   "outputs": [],
   "source": [
    "# Start making calculator"
   ]
  }
 ],
 "metadata": {
  "language_info": {
   "name": "python"
  }
 },
 "nbformat": 4,
 "nbformat_minor": 5
}
